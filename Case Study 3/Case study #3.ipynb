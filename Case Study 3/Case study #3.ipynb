{
 "metadata": {
  "name": "",
  "signature": "sha256:53fdadaf758f4098bc2fcece21682f2d2f300e35f66f7711eadde603145d57f3"
 },
 "nbformat": 3,
 "nbformat_minor": 0,
 "worksheets": [
  {
   "cells": [
    {
     "cell_type": "markdown",
     "metadata": {},
     "source": [
      "#Case Study 3 : Data Science Hackathon on Yelp Data\n",
      "** Due Date: November 11, before the class**\n",
      "<a href=\"http://www.thesocialnetwork-movie.com/\"> <img src=\"http://www.eldia.es/blogs/bitacora/wp-content/uploads/2012/09/social-network-window.jpeg\" width=\"500px\"> </a>\n",
      "\n",
      "\n",
      "*------------"
     ]
    },
    {
     "cell_type": "markdown",
     "metadata": {},
     "source": [
      "In this project, your goal is to design a better service/solution for Yelp.\n",
      "* Your team needs to decide which businese problem is important for the customers/businese entities in Yelp website.\n",
      "* Then design a data science approach to improve one of the current services of Yelp or design a new service for Yelp.\n",
      "* The solution should include all the three components of data science: 1) the businese part to analyze the potential impact of your new/improved service; 2) the mathimatical part to formulate the problem and develop math solution; 3) the programming part to collect the data, implement the math solution, and optionally launch the prototype service demo.\n"
     ]
    },
    {
     "cell_type": "markdown",
     "metadata": {},
     "source": [
      "# Background about Data Hackathon and Yelp Data"
     ]
    },
    {
     "cell_type": "code",
     "collapsed": false,
     "input": [
      "from IPython.display import YouTubeVideo\n",
      "YouTubeVideo(\"bLsM1z8lX_A\") "
     ],
     "language": "python",
     "metadata": {},
     "outputs": [
      {
       "html": [
        "\n",
        "        <iframe\n",
        "            width=\"400\"\n",
        "            height=300\"\n",
        "            src=\"https://www.youtube.com/embed/bLsM1z8lX_A\"\n",
        "            frameborder=\"0\"\n",
        "            allowfullscreen\n",
        "        ></iframe>\n",
        "        "
       ],
       "metadata": {},
       "output_type": "pyout",
       "prompt_number": 3,
       "text": [
        "<IPython.lib.display.YouTubeVideo at 0x102747f90>"
       ]
      }
     ],
     "prompt_number": 3
    },
    {
     "cell_type": "code",
     "collapsed": false,
     "input": [
      "YouTubeVideo(\"fAvW27iEwS4\")\n"
     ],
     "language": "python",
     "metadata": {},
     "outputs": [
      {
       "html": [
        "\n",
        "        <iframe\n",
        "            width=\"400\"\n",
        "            height=300\"\n",
        "            src=\"https://www.youtube.com/embed/fAvW27iEwS4\"\n",
        "            frameborder=\"0\"\n",
        "            allowfullscreen\n",
        "        ></iframe>\n",
        "        "
       ],
       "metadata": {},
       "output_type": "pyout",
       "prompt_number": 4,
       "text": [
        "<IPython.lib.display.YouTubeVideo at 0x102747410>"
       ]
      }
     ],
     "prompt_number": 4
    },
    {
     "cell_type": "markdown",
     "metadata": {},
     "source": [
      "\n",
      "**Optional Readings:** \n",
      "* Yelp API: https://www.yelp.com/developers/documentation/v2/search_api\n",
      "* Python with Yelp API: http://letstalkdata.com/2014/02/how-to-use-the-yelp-api-in-python/\n",
      "* Yelp API Python code sample: https://github.com/Yelp/yelp-api/tree/master/v2/python\n",
      "* Text data analysis: http://scikit-learn.org/stable/tutorial/text_analytics/working_with_text_data.html\n",
      "\n",
      "\n",
      "** Python libraries you may want to use:**\n",
      "* Scikit-learn (http://scikit-learn.org): machine learning tools in Python.\n",
      "\n",
      "** NOTE **\n",
      "* Please don't forget to save the notebook frequently when working in IPython Notebook, otherwise the changes you made can be lost.\n",
      "\n",
      "*----------------------"
     ]
    },
    {
     "cell_type": "markdown",
     "metadata": {},
     "source": [
      "#Problem 1: the Businese Problem (10 points)\n",
      " As a group, learn about the Yelp website and research about the current services of Yelp: such as  search/ranking of business entities, user ratings, location-based search, and so on.\n",
      " Pick one of the current services for further consideration, or design a new service for Yelp which you believe to be important for Yelp. \n",
      "Define precisely in the report and briefly in the cells below, what is the businese problem that your team wants to solve.\n",
      "Why the problem is important to solve? \n",
      "Why you believe you could provide a better solution with data science.\n",
      "\n",
      "For example, a businese problem I may choose is: how to provide a better search service (i.e., a better ranking of the businese entities) on Yelp, so that users can search Yelp and get better ranking results of the different businese entities."
     ]
    },
    {
     "cell_type": "markdown",
     "metadata": {},
     "source": [
      "**Please describe here *briefly*  (please edit this cell)**\n",
      "\n",
      "1) Your businese problem to solve:\n",
      "\n",
      "\n",
      "\n",
      "2) Why the problem is important to solve? \n",
      "\n",
      "\n",
      "\n",
      "3) How could you provide a better solution with data science.\n",
      "\n",
      "\n",
      "\n",
      "\n"
     ]
    },
    {
     "cell_type": "markdown",
     "metadata": {},
     "source": [
      "#Problem 2: Data Collection and Cleaning (10 points)"
     ]
    },
    {
     "cell_type": "markdown",
     "metadata": {},
     "source": [
      "* Your team should decide where and how to collect a set of data online that is relevant to the businese question you chose in Problem 1. \n",
      "* One example is that you could download the Yelp Dataset from  http://www.yelp.com/dataset_challenge (Click \"Get the Data\", and register to get data). NOTE: the whole dataset can be too big for your computer. You may not need to use all the data records. \n",
      "* Another example is to use Yelp API (https://www.yelp.com/developers/documentation/v2/search_api) and write Python code to collect relevant data, just like what we did in Case study 1 with Twitter API."
     ]
    },
    {
     "cell_type": "code",
     "collapsed": false,
     "input": [
      "# your code here\n",
      "\n",
      "\n",
      "\n"
     ],
     "language": "python",
     "metadata": {},
     "outputs": [],
     "prompt_number": 5
    },
    {
     "cell_type": "markdown",
     "metadata": {},
     "source": [
      "#Problem 3: Math Problem Formulation and Solution (20 points)"
     ]
    },
    {
     "cell_type": "markdown",
     "metadata": {},
     "source": [
      "Define the businese problem as a math problem and design a math solution to the problem.\n",
      "\n",
      "**For example**, the ranking problem that I chose in Problem 1 can be translated to a math problem of estimating the scores of different businese entities.\n",
      "A math solution could be the <a href=\"https://en.wikipedia.org/wiki/Elo_rating_system\">Elo rating system</a>, which is used in Facemash.com.\n",
      "When\n",
      "The equations are:\n",
      "\n",
      "The expected probability for businese $A$ to win a competition against $B$ can be defined as:\n",
      "$$ E_A = \\frac{1}{1 + 10^{(R_B - R_A)/400} } $$\n",
      "A *competition* can be an event when a customer visited both businese entities (e.g. restaurants), and gives ratings to both entities.\n",
      "Suppose a customer gives two ratings for $A$ and $B$. If his/her rating for $A$ is higher than his/her rating for $B$, we can say $A$ **win**. If lower, **loss**. If the ratings are the same, **tie**.\n",
      "\n",
      "The score of the businese entities can be estimated/updated by \n",
      "$$ R_A' = R_A - K(S_A-E_A)$$\n",
      "\n",
      "**Another example solution** could be using PageRank to rank different reviewers. We can then give different weights on the reviews from different users. We could choose to trust more on the reviews provided by important users (with large PageRank scores). Then instead of ranking the businese entities by simple averaging of the user ratings, we can rank the businese entities by the average ratings **weighted** by users' PageRank scores."
     ]
    },
    {
     "cell_type": "markdown",
     "metadata": {},
     "source": [
      "**Insert your answers here**\n",
      "\n",
      "\n",
      "1) Problem formulation in Math:\n",
      "\n",
      "\n",
      "2) Math Solution:\n",
      "\n",
      "\n",
      "\n"
     ]
    },
    {
     "cell_type": "markdown",
     "metadata": {},
     "source": [
      "*------------------------\n",
      "\n",
      "#Problem 4: Implement the Algorithm and Explore the Data  (20 points)\n"
     ]
    },
    {
     "cell_type": "markdown",
     "metadata": {},
     "source": [
      "* Based upon the above math solution, implement the algorithm in python and run the algorithm on your data.\n",
      "* Show the results, using figures or tables\n"
     ]
    },
    {
     "cell_type": "code",
     "collapsed": false,
     "input": [
      "# your code here\n",
      "\n",
      "\n",
      "\n",
      "\n",
      "\n"
     ],
     "language": "python",
     "metadata": {},
     "outputs": [],
     "prompt_number": 6
    },
    {
     "cell_type": "markdown",
     "metadata": {},
     "source": [
      "*------------------------\n",
      "\n",
      "#Bonus Question: Display results or implement a prototype service using a web framework (20 points)"
     ]
    },
    {
     "cell_type": "markdown",
     "metadata": {},
     "source": [
      "Create a simple web framework using <a href=\"http://flask.pocoo.org/\">Flask</a> or <a href=\"https://www.djangoproject.com/\">Django</a> that displays the results/prototype on a locally served web page. \n",
      "If you\u2019ve never used Flask or Django before, here are some great tutorials for <a href=\"http://blog.miguelgrinberg.com/post/the-flask-mega-tutorial-part-i-hello-world\">flask</a> and <a href=\"http://www.lightbird.net/dbe/\">Django</a>."
     ]
    },
    {
     "cell_type": "markdown",
     "metadata": {},
     "source": [
      "*-----------------\n",
      "# Done\n",
      "\n",
      "All set! \n",
      "\n",
      "** What do you need to submit?**\n",
      "\n",
      "* **Notebook File** (60 points): Save this IPython notebook.\n",
      "\n",
      "\n",
      "* **PPT Slides** (20 points): please prepare PPT slides (for 10 minutes' talk) to present about the case study . \n",
      "\n",
      "* ** Report** (20 points): please prepare a report (less than 10 pages) to report what you did in this project.\n",
      "\n",
      "     (please include figures or tables in the report, but no source code)\n",
      "\n",
      "* **web code** (20 bonus points): the code in web framework.\n",
      "Please compress all the files in a zipped file.\n"
     ]
    }
   ],
   "metadata": {}
  }
 ]
}